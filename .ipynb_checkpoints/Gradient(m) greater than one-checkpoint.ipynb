{
 "cells": [
  {
   "cell_type": "markdown",
   "id": "043767a1",
   "metadata": {},
   "source": [
    "## ICS 2311: Computer Graphics LAB WORK\n",
    "1. BRENDA MWANGI - CIT-221-007/2020\n",
    "2. TABITHA WANJIRA - CIT-221-015/2020\n",
    "3. ZECHARIAH OUMA - CIT-221-025/2020\n",
    "4. WILLY TULULA - CIT-221-06/2020"
   ]
  },
  {
   "cell_type": "code",
   "execution_count": 27,
   "id": "47cd84d4",
   "metadata": {},
   "outputs": [],
   "source": [
    "import decimal #library for rounding up numbers"
   ]
  },
  {
   "cell_type": "markdown",
   "id": "f149c249",
   "metadata": {},
   "source": [
    "# a) Digital Difference Analyzer(DDA) Algorithms in Python\n",
    "### Case 1: Gradient M is less than one for a positive and negative slope."
   ]
  },
  {
   "cell_type": "code",
   "execution_count": 5,
   "id": "2c76bb0f",
   "metadata": {},
   "outputs": [],
   "source": [
    "def dda_less_than(x1, y1, x2, y2):\n",
    "    dx = x2 - x1\n",
    "    dy = y2 - y1\n",
    "\n",
    "    steps = max(abs(dx), abs(dy))\n",
    "\n",
    "    x_inc = dx/steps\n",
    "    y_inc = dy/steps\n",
    "\n",
    "    x = x1\n",
    "    y = y1\n",
    "    maxi = max(abs(dx), abs(dy))\n",
    "    print(f\"The gradient is {dy/dx}\")\n",
    "\n",
    "    while maxi+1>0:\n",
    "        new_x = decimal.Decimal(x).quantize(decimal.Decimal('1'), rounding = decimal.ROUND_HALF_UP)\n",
    "        new_y = decimal.Decimal(y).quantize(decimal.Decimal('1'), rounding = decimal.ROUND_HALF_UP)\n",
    "        print(new_x, new_y)\n",
    "\n",
    "        x = x + x_inc\n",
    "        y = y + y_inc\n",
    "        maxi-=1"
   ]
  },
  {
   "cell_type": "markdown",
   "id": "68096849",
   "metadata": {},
   "source": [
    "### Case 2: Gradient M is greater than one for a positive and negative slope."
   ]
  },
  {
   "cell_type": "code",
   "execution_count": 8,
   "id": "c4206903",
   "metadata": {},
   "outputs": [],
   "source": [
    "def dda_greater_than(x1, y1, x2, y2):\n",
    "    \"\"\"calculates the pixel co-ordinates of points with a gradient greater than one for both +ve and -ve slopes\"\"\"\n",
    "    dx = x2 - x1\n",
    "    dy = y2 - y1\n",
    "\n",
    "    m = dy/dx\n",
    "    x = x1\n",
    "    y = y1\n",
    "    maxi = max(abs(dx), abs(dy))\n",
    "    print(f\"The gradient is {m}\\n\")\n",
    "\n",
    "    while maxi>0:\n",
    "        new_x = decimal.Decimal(x).quantize(decimal.Decimal('1'), rounding = decimal.ROUND_HALF_UP)\n",
    "        new_y = decimal.Decimal(y).quantize(decimal.Decimal('1'), rounding = decimal.ROUND_HALF_UP)\n",
    "        print(new_x, new_y)\n",
    "\n",
    "        x = x + 1/m\n",
    "        y = y + 1\n",
    "        maxi-=1"
   ]
  },
  {
   "cell_type": "markdown",
   "id": "0d1cc21b",
   "metadata": {},
   "source": [
    "## b)  Using the functions created earlier\n",
    "\n",
    "a) For the points in `1` and `3` above, we'll use the **`dda_less_than()`** function in ***case 1*** since our gradients are less than one for both positive and negative slopes.\n",
    "\n",
    "b) For the points in `2` and `4` we'll use the **`dda_greater_than()`** function in ***case 2*** since our gradients are more than one for both positive and negative slopes.\n",
    "\n"
   ]
  },
  {
   "cell_type": "markdown",
   "id": "a98f4e3e",
   "metadata": {},
   "source": [
    "# Carrying out the tests"
   ]
  },
  {
   "cell_type": "markdown",
   "id": "b493e68c",
   "metadata": {},
   "source": [
    "### <span style='color:blue;'>1. `(0,0) and (10,8)` here the gradient is **0.8**</span>"
   ]
  },
  {
   "cell_type": "code",
   "execution_count": 28,
   "id": "3408ccac",
   "metadata": {},
   "outputs": [
    {
     "name": "stdout",
     "output_type": "stream",
     "text": [
      "The gradient is 0.8\n",
      "0 0\n",
      "1 1\n",
      "2 2\n",
      "3 2\n",
      "4 3\n",
      "5 4\n",
      "6 5\n",
      "7 6\n",
      "8 6\n",
      "9 7\n",
      "10 8\n"
     ]
    }
   ],
   "source": [
    "#test when the gradient is less than one for a positive slope\n",
    "dda_less_than(0,0,10,8)"
   ]
  },
  {
   "cell_type": "markdown",
   "id": "9896f51f",
   "metadata": {},
   "source": [
    "### <span style='color:blue;'>2. `(0,0) and (10,20)` here the gradient is **2**</span>"
   ]
  },
  {
   "cell_type": "code",
   "execution_count": 29,
   "id": "bcd107e7",
   "metadata": {},
   "outputs": [
    {
     "name": "stdout",
     "output_type": "stream",
     "text": [
      "The gradient is 2.0\n",
      "\n",
      "0 0\n",
      "1 1\n",
      "1 2\n",
      "2 3\n",
      "2 4\n",
      "3 5\n",
      "3 6\n",
      "4 7\n",
      "4 8\n",
      "5 9\n",
      "5 10\n",
      "6 11\n",
      "6 12\n",
      "7 13\n",
      "7 14\n",
      "8 15\n",
      "8 16\n",
      "9 17\n",
      "9 18\n",
      "10 19\n"
     ]
    }
   ],
   "source": [
    "#test when the gradient is greater than one for a positive slope\n",
    "dda_greater_than(0,0,10,20)"
   ]
  },
  {
   "cell_type": "markdown",
   "id": "4b51946b",
   "metadata": {},
   "source": [
    "### <span style='color:blue;'>3. `(0,8) and (10,0)` here the gradient is **-0.8**</span>"
   ]
  },
  {
   "cell_type": "code",
   "execution_count": 30,
   "id": "7f156511",
   "metadata": {},
   "outputs": [
    {
     "name": "stdout",
     "output_type": "stream",
     "text": [
      "The gradient is -0.8\n",
      "0 8\n",
      "1 7\n",
      "2 6\n",
      "3 6\n",
      "4 5\n",
      "5 4\n",
      "6 3\n",
      "7 2\n",
      "8 2\n",
      "9 1\n",
      "10 0\n"
     ]
    }
   ],
   "source": [
    "#test when the gradient is less than one for a negative slope\n",
    "dda_less_than(0,8,10,0)"
   ]
  },
  {
   "cell_type": "markdown",
   "id": "cda04fbb",
   "metadata": {},
   "source": [
    "### <span style='color:blue;'>4. `(0,20) and (10,0)` here the gradient is **-2**</span>"
   ]
  },
  {
   "cell_type": "code",
   "execution_count": 31,
   "id": "50ac982d",
   "metadata": {},
   "outputs": [
    {
     "name": "stdout",
     "output_type": "stream",
     "text": [
      "The gradient is -2.0\n",
      "0 20\n",
      "1 19\n",
      "1 18\n",
      "2 17\n",
      "2 16\n",
      "3 15\n",
      "3 14\n",
      "4 13\n",
      "4 12\n",
      "5 11\n",
      "5 10\n",
      "6 9\n",
      "6 8\n",
      "7 7\n",
      "7 6\n",
      "8 5\n",
      "8 4\n",
      "9 3\n",
      "9 2\n",
      "10 1\n",
      "10 0\n"
     ]
    }
   ],
   "source": [
    "#test when the gradient is greater than one for a negative slope\n",
    "dda_less_than(0,20,10,0)"
   ]
  }
 ],
 "metadata": {
  "kernelspec": {
   "display_name": "Python 3 (ipykernel)",
   "language": "python",
   "name": "python3"
  },
  "language_info": {
   "codemirror_mode": {
    "name": "ipython",
    "version": 3
   },
   "file_extension": ".py",
   "mimetype": "text/x-python",
   "name": "python",
   "nbconvert_exporter": "python",
   "pygments_lexer": "ipython3",
   "version": "3.9.12"
  }
 },
 "nbformat": 4,
 "nbformat_minor": 5
}
